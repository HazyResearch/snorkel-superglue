{
 "cells": [
  {
   "cell_type": "markdown",
   "metadata": {},
   "source": [
    "# COPA Demo"
   ]
  },
  {
   "cell_type": "code",
   "execution_count": 4,
   "metadata": {},
   "outputs": [],
   "source": [
    "if not \"cwd\" in globals():\n",
    "    cwd = Path(os.getcwd())\n",
    "sys.path.insert(0, str(cwd.parents[0]))"
   ]
  },
  {
   "cell_type": "code",
   "execution_count": 5,
   "metadata": {},
   "outputs": [],
   "source": [
    "TASK_NAME = \"COPA\"\n",
    "AUX_TASK_NAME = \"SWAG\"\n",
    "BERT_MODEL = \"bert-large-cased\"\n",
    "\n",
    "dataloader_config = {\n",
    "    \"batch_size\": 4,\n",
    "    \"data_dir\": os.environ[\"SUPERGLUEDATA\"],\n",
    "    \"splits\": [\"train\", \"valid\"],\n",
    "}\n",
    "\n",
    "trainer_config = {\n",
    "    \"lr\": 1e-5,\n",
    "    \"optimizer\": \"adam\",\n",
    "    \"n_epochs\": 10,\n",
    "    \"conter_unit\": \"epochs\",\n",
    "    \"evaluation_freq\": 0.25,\n",
    "}"
   ]
  },
  {
   "cell_type": "markdown",
   "metadata": {},
   "source": [
    "### Train Primary Task"
   ]
  },
  {
   "cell_type": "code",
   "execution_count": 6,
   "metadata": {},
   "outputs": [],
   "source": [
    "from dataloaders import get_dataloaders\n",
    "\n",
    "# Loading primary task data\n",
    "copa_dataloaders = get_dataloaders(\n",
    "    task_name=TASK_NAME,\n",
    "    tokenizer_name=BERT_MODEL,\n",
    "    **dataloader_config\n",
    ")"
   ]
  },
  {
   "cell_type": "code",
   "execution_count": 7,
   "metadata": {},
   "outputs": [],
   "source": [
    "from superglue_tasks import task_funcs\n",
    "\n",
    "# Defining task\n",
    "copa_task = task_funcs[TASK_NAME](BERT_MODEL)"
   ]
  },
  {
   "cell_type": "code",
   "execution_count": 8,
   "metadata": {},
   "outputs": [],
   "source": [
    "from snorkel.mtl.model import MultitaskModel\n",
    "\n",
    "# Defining model\n",
    "copa_model = MultitaskModel(tasks=[copa_task])"
   ]
  },
  {
   "cell_type": "code",
   "execution_count": 9,
   "metadata": {},
   "outputs": [],
   "source": [
    "from snorkel.mtl.trainer import Trainer\n",
    "\n",
    "# Defining trainer object\n",
    "trainer = Trainer(**trainer_config)"
   ]
  },
  {
   "cell_type": "code",
   "execution_count": 10,
   "metadata": {},
   "outputs": [],
   "source": [
    "# Training model -- takes a long time on CPU!\n",
    "\n",
    "# trainer.train_model(copa_model, copa_dataloaders)"
   ]
  },
  {
   "cell_type": "code",
   "execution_count": 11,
   "metadata": {},
   "outputs": [
    {
     "name": "stdout",
     "output_type": "stream",
     "text": [
      "COPA Accuracy Using Random Initialization: 0.72\n"
     ]
    }
   ],
   "source": [
    "# Loading weights from model trained as in above cell\n",
    "copa_model.load('best_model_COPA_SuperGLUE_valid_accuracy.pth')\n",
    "\n",
    "# Evaluating model\n",
    "copa_train_loader, copa_dev_loader = copa_dataloaders\n",
    "scratch_score = copa_model.score(copa_dev_loader)\n",
    "print(f\"COPA Accuracy Using Random Initialization: {scratch_score['COPA/SuperGLUE/valid/accuracy']}\")"
   ]
  },
  {
   "cell_type": "markdown",
   "metadata": {},
   "source": [
    "### Train model for auxiliary task"
   ]
  },
  {
   "cell_type": "code",
   "execution_count": 12,
   "metadata": {},
   "outputs": [],
   "source": [
    "# Getting dataloaders, task, and model for SWAG\n",
    "\n",
    "swag_dataloaders = get_dataloaders(\n",
    "    task_name=AUX_TASK_NAME,\n",
    "    tokenizer_name=BERT_MODEL,\n",
    "    **dataloader_config\n",
    ")\n",
    "\n",
    "swag_task = task_funcs[AUX_TASK_NAME](BERT_MODEL)\n",
    "swag_model = MultitaskModel(tasks=[swag_task])"
   ]
  },
  {
   "cell_type": "code",
   "execution_count": 13,
   "metadata": {},
   "outputs": [],
   "source": [
    "# Training on SWAG and saving model -- takes a long time on CPU!\n",
    "from snorkel.mtl.trainer import Trainer\n",
    "\n",
    "trainer = Trainer(**trainer_config)\n",
    "# trainer.train_model(swag_model, swag_dataloaders)\n",
    "# swag_model.save('best_model_SWAG_SuperGLUE.pth')"
   ]
  },
  {
   "cell_type": "markdown",
   "metadata": {},
   "source": [
    "### Fine-tune double pre-trained model (BERT + SWAG)"
   ]
  },
  {
   "cell_type": "code",
   "execution_count": 14,
   "metadata": {},
   "outputs": [],
   "source": [
    "from copy import deepcopy\n",
    "\n",
    "# Loading SWAG-pretrained weights into COPA model\n",
    "copa_swag_model = deepcopy(copa_model)\n",
    "\n",
    "# Commenting to save time\n",
    "# copa_swag_model.load('best_model_SWAG_SuperGLUE.pth')"
   ]
  },
  {
   "cell_type": "code",
   "execution_count": null,
   "metadata": {},
   "outputs": [],
   "source": [
    "from snorkel.mtl.trainer import Trainer\n",
    "\n",
    "# Train model using SWAG pretrained initialization\n",
    "trainer = Trainer(**trainer_config)\n",
    "\n",
    "# Commenting training to save time!\n",
    "# trainer.train_model(copa_swag_model, copa_dataloaders)\n",
    "\n",
    "# Loading instead!\n",
    "pretrained_swag_model_path = 'best_model_COPA_SWAG_AUX_SuperGLUE_valid_accuracy.pth'\n",
    "copa_swag_model.load(pretrained_swag_model_path)"
   ]
  },
  {
   "cell_type": "code",
   "execution_count": null,
   "metadata": {},
   "outputs": [],
   "source": [
    "pretrained_score = copa_swag_model.score(copa_dev_loader)"
   ]
  },
  {
   "cell_type": "markdown",
   "metadata": {},
   "source": [
    "### Compare pretrained to non-pretrained model"
   ]
  },
  {
   "cell_type": "code",
   "execution_count": null,
   "metadata": {},
   "outputs": [],
   "source": [
    "print(f\"COPA Accuracy Using SWAG Pretrained Weights: {pretrained_score['COPA/SuperGLUE/valid/accuracy']}\")\n",
    "print(f\"COPA Accuracy Using Random Initialization: {scratch_score['COPA/SuperGLUE/valid/accuracy']}\")"
   ]
  }
 ],
 "metadata": {
  "kernelspec": {
   "display_name": "Python (snorkel-redux))",
   "language": "python",
   "name": "snorkel-redux"
  },
  "language_info": {
   "codemirror_mode": {
    "name": "ipython",
    "version": 3
   },
   "file_extension": ".py",
   "mimetype": "text/x-python",
   "name": "python",
   "nbconvert_exporter": "python",
   "pygments_lexer": "ipython3",
   "version": "3.6.8"
  }
 },
 "nbformat": 4,
 "nbformat_minor": 2
}
