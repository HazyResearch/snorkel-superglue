{
 "cells": [
  {
   "cell_type": "markdown",
   "metadata": {
    "lines_to_next_cell": 0
   },
   "source": [
    "## MultiRC Demo\n",
    "\n",
    "In this notebook, we describe how we can apply simple transformation functions to achieve state-of-the-art results on the **Multi-Sentence Reading Comprehension (MultiRC)** task."
   ]
  },
  {
   "cell_type": "code",
   "execution_count": 1,
   "metadata": {
    "lines_to_next_cell": 0
   },
   "outputs": [],
   "source": [
    "import os\n",
    "import random\n",
    "import sys\n",
    "from pathlib import Path\n",
    "\n",
    "import pandas as pd\n",
    "# Don't truncate the sentence when viewing examples\n",
    "pd.set_option('display.max_colwidth', -1)\n",
    "\n",
    "from snorkel.augmentation.apply import PandasTFApplier\n",
    "from snorkel.augmentation.policy import RandomAugmentationPolicy\n",
    "from snorkel.augmentation.tf import transformation_function"
   ]
  },
  {
   "cell_type": "code",
   "execution_count": 2,
   "metadata": {},
   "outputs": [],
   "source": [
    "if not \"cwd\" in globals():\n",
    "    cwd = Path(os.getcwd())\n",
    "sys.path.insert(0, str(cwd.parents[0]))"
   ]
  },
  {
   "cell_type": "markdown",
   "metadata": {},
   "source": [
    "## Loading data\n",
    "\n",
    "Let's start by visualizing a few of the MultiRC examples.\n",
    "\n",
    "Each example consists of a _paragraph_, a _question_, and a list of possible answers.\n",
    "Each question can have multiple possible correct answers and might rely on context drawn from multiple sentences."
   ]
  },
  {
   "cell_type": "code",
   "execution_count": 3,
   "metadata": {},
   "outputs": [],
   "source": [
    "from dataloaders import get_jsonl_path\n",
    "from superglue_parsers.multirc import get_rows"
   ]
  },
  {
   "cell_type": "code",
   "execution_count": 4,
   "metadata": {},
   "outputs": [],
   "source": [
    "task_name = \"MultiRC\"\n",
    "data_dir = os.environ[\"SUPERGLUEDATA\"]\n",
    "splits = [\"train\", \"valid\"]\n",
    "max_data_samples = 1000 # note, we limit the number of examples to make the demo run faster :)"
   ]
  },
  {
   "cell_type": "code",
   "execution_count": 5,
   "metadata": {
    "lines_to_next_cell": 0,
    "scrolled": true
   },
   "outputs": [
    {
     "data": {
      "text/html": [
       "<div>\n",
       "<style scoped>\n",
       "    .dataframe tbody tr th:only-of-type {\n",
       "        vertical-align: middle;\n",
       "    }\n",
       "\n",
       "    .dataframe tbody tr th {\n",
       "        vertical-align: top;\n",
       "    }\n",
       "\n",
       "    .dataframe thead th {\n",
       "        text-align: right;\n",
       "    }\n",
       "</style>\n",
       "<table border=\"1\" class=\"dataframe\">\n",
       "  <thead>\n",
       "    <tr style=\"text-align: right;\">\n",
       "      <th></th>\n",
       "      <th>aid</th>\n",
       "      <th>answer</th>\n",
       "      <th>label</th>\n",
       "      <th>paragraph</th>\n",
       "      <th>paragraph_sent_list</th>\n",
       "      <th>pid</th>\n",
       "      <th>qid</th>\n",
       "      <th>question</th>\n",
       "      <th>sent_used</th>\n",
       "    </tr>\n",
       "  </thead>\n",
       "  <tbody>\n",
       "    <tr>\n",
       "      <th>0</th>\n",
       "      <td>0</td>\n",
       "      <td>Yes</td>\n",
       "      <td>True</td>\n",
       "      <td>Animated history of the US. Of course the cartoon is highly oversimplified, and most critics consider it one of the weakest parts of the film. But it makes a valid claim which you ignore entirely: That the strategy to promote \"gun rights\" for white people and to outlaw gun possession by black people was a way to uphold racism without letting an openly terrorist organization like the KKK flourish. Did the 19th century NRA in the southern states promote gun rights for black people? I highly doubt it. But if they didn't, one of their functions was to continue the racism of the KKK. This is the key message of this part of the animation, which is again being ignored by its critics. Buell shooting in Flint. You write: \"Fact: The little boy was the class thug, already suspended from school for stabbing another kid with a pencil, and had fought with Kayla the day before\". This characterization of a six-year-old as a pencil-stabbing thug is exactly the kind of hysteria that Moore's film warns against. It is the typical right-wing reaction which looks for simple answers that do not contradict the Republican mindset. The kid was a little bastard, and the parents were involved in drugs -- case closed. But why do people deal with drugs? Because it's so much fun to do so? It is by now well documented that the CIA tolerated crack sales in US cities to fund the operation of South American \"contras\" It is equally well known that the so-called \"war on drugs\" begun under the Nixon administration is a failure which has cost hundreds of billions and made America the world leader in prison population (both in relative and absolute numbers).</td>\n",
       "      <td>[Animated history of the US., Of course the cartoon is highly oversimplified, and most critics consider it one of the weakest parts of the film., But it makes a valid claim which you ignore entirely: That the strategy to promote \"gun rights\" for white people and to outlaw gun possession by black people was a way to uphold racism without letting an openly terrorist organization like the KKK flourish., Did the 19th century NRA in the southern states promote gun rights for black people?, I highly doubt it., But if they didn't, one of their functions was to continue the racism of the KKK., This is the key message of this part of the animation, which is again being ignored by its critics., Buell shooting in Flint., You write: \"Fact: The little boy was the class thug, already suspended from school for stabbing another kid with a pencil, and had fought with Kayla the day before\"., This characterization of a six-year-old as a pencil-stabbing thug is exactly the kind of hysteria that Moore's film warns against., It is the typical right-wing reaction which looks for simple answers that do not contradict the Republican mindset., The kid was a little bastard, and the parents were involved in drugs -- case closed., But why do people deal with drugs?, Because it's so much fun to do so?, It is by now well documented that the CIA tolerated crack sales in US cities to fund the operation of South American \"contras\" It is equally well known that the so-called \"war on drugs\" begun under the Nixon administration is a failure which has cost hundreds of billions and made America the world leader in prison population (both in relative and absolute numbers)., ]</td>\n",
       "      <td>0</td>\n",
       "      <td>0</td>\n",
       "      <td>Does the author claim the animated films message is that the NRA upholds racism?</td>\n",
       "      <td>[1, 2, 3, 5]</td>\n",
       "    </tr>\n",
       "    <tr>\n",
       "      <th>1</th>\n",
       "      <td>1</td>\n",
       "      <td>Uphold, and continue</td>\n",
       "      <td>True</td>\n",
       "      <td>Animated history of the US. Of course the cartoon is highly oversimplified, and most critics consider it one of the weakest parts of the film. But it makes a valid claim which you ignore entirely: That the strategy to promote \"gun rights\" for white people and to outlaw gun possession by black people was a way to uphold racism without letting an openly terrorist organization like the KKK flourish. Did the 19th century NRA in the southern states promote gun rights for black people? I highly doubt it. But if they didn't, one of their functions was to continue the racism of the KKK. This is the key message of this part of the animation, which is again being ignored by its critics. Buell shooting in Flint. You write: \"Fact: The little boy was the class thug, already suspended from school for stabbing another kid with a pencil, and had fought with Kayla the day before\". This characterization of a six-year-old as a pencil-stabbing thug is exactly the kind of hysteria that Moore's film warns against. It is the typical right-wing reaction which looks for simple answers that do not contradict the Republican mindset. The kid was a little bastard, and the parents were involved in drugs -- case closed. But why do people deal with drugs? Because it's so much fun to do so? It is by now well documented that the CIA tolerated crack sales in US cities to fund the operation of South American \"contras\" It is equally well known that the so-called \"war on drugs\" begun under the Nixon administration is a failure which has cost hundreds of billions and made America the world leader in prison population (both in relative and absolute numbers).</td>\n",
       "      <td>[Animated history of the US., Of course the cartoon is highly oversimplified, and most critics consider it one of the weakest parts of the film., But it makes a valid claim which you ignore entirely: That the strategy to promote \"gun rights\" for white people and to outlaw gun possession by black people was a way to uphold racism without letting an openly terrorist organization like the KKK flourish., Did the 19th century NRA in the southern states promote gun rights for black people?, I highly doubt it., But if they didn't, one of their functions was to continue the racism of the KKK., This is the key message of this part of the animation, which is again being ignored by its critics., Buell shooting in Flint., You write: \"Fact: The little boy was the class thug, already suspended from school for stabbing another kid with a pencil, and had fought with Kayla the day before\"., This characterization of a six-year-old as a pencil-stabbing thug is exactly the kind of hysteria that Moore's film warns against., It is the typical right-wing reaction which looks for simple answers that do not contradict the Republican mindset., The kid was a little bastard, and the parents were involved in drugs -- case closed., But why do people deal with drugs?, Because it's so much fun to do so?, It is by now well documented that the CIA tolerated crack sales in US cities to fund the operation of South American \"contras\" It is equally well known that the so-called \"war on drugs\" begun under the Nixon administration is a failure which has cost hundreds of billions and made America the world leader in prison population (both in relative and absolute numbers)., ]</td>\n",
       "      <td>0</td>\n",
       "      <td>0</td>\n",
       "      <td>Does the author claim the animated films message is that the NRA upholds racism?</td>\n",
       "      <td>[1, 2, 3, 5]</td>\n",
       "    </tr>\n",
       "    <tr>\n",
       "      <th>2</th>\n",
       "      <td>2</td>\n",
       "      <td>No</td>\n",
       "      <td>False</td>\n",
       "      <td>Animated history of the US. Of course the cartoon is highly oversimplified, and most critics consider it one of the weakest parts of the film. But it makes a valid claim which you ignore entirely: That the strategy to promote \"gun rights\" for white people and to outlaw gun possession by black people was a way to uphold racism without letting an openly terrorist organization like the KKK flourish. Did the 19th century NRA in the southern states promote gun rights for black people? I highly doubt it. But if they didn't, one of their functions was to continue the racism of the KKK. This is the key message of this part of the animation, which is again being ignored by its critics. Buell shooting in Flint. You write: \"Fact: The little boy was the class thug, already suspended from school for stabbing another kid with a pencil, and had fought with Kayla the day before\". This characterization of a six-year-old as a pencil-stabbing thug is exactly the kind of hysteria that Moore's film warns against. It is the typical right-wing reaction which looks for simple answers that do not contradict the Republican mindset. The kid was a little bastard, and the parents were involved in drugs -- case closed. But why do people deal with drugs? Because it's so much fun to do so? It is by now well documented that the CIA tolerated crack sales in US cities to fund the operation of South American \"contras\" It is equally well known that the so-called \"war on drugs\" begun under the Nixon administration is a failure which has cost hundreds of billions and made America the world leader in prison population (both in relative and absolute numbers).</td>\n",
       "      <td>[Animated history of the US., Of course the cartoon is highly oversimplified, and most critics consider it one of the weakest parts of the film., But it makes a valid claim which you ignore entirely: That the strategy to promote \"gun rights\" for white people and to outlaw gun possession by black people was a way to uphold racism without letting an openly terrorist organization like the KKK flourish., Did the 19th century NRA in the southern states promote gun rights for black people?, I highly doubt it., But if they didn't, one of their functions was to continue the racism of the KKK., This is the key message of this part of the animation, which is again being ignored by its critics., Buell shooting in Flint., You write: \"Fact: The little boy was the class thug, already suspended from school for stabbing another kid with a pencil, and had fought with Kayla the day before\"., This characterization of a six-year-old as a pencil-stabbing thug is exactly the kind of hysteria that Moore's film warns against., It is the typical right-wing reaction which looks for simple answers that do not contradict the Republican mindset., The kid was a little bastard, and the parents were involved in drugs -- case closed., But why do people deal with drugs?, Because it's so much fun to do so?, It is by now well documented that the CIA tolerated crack sales in US cities to fund the operation of South American \"contras\" It is equally well known that the so-called \"war on drugs\" begun under the Nixon administration is a failure which has cost hundreds of billions and made America the world leader in prison population (both in relative and absolute numbers)., ]</td>\n",
       "      <td>0</td>\n",
       "      <td>0</td>\n",
       "      <td>Does the author claim the animated films message is that the NRA upholds racism?</td>\n",
       "      <td>[1, 2, 3, 5]</td>\n",
       "    </tr>\n",
       "    <tr>\n",
       "      <th>3</th>\n",
       "      <td>3</td>\n",
       "      <td>The strategy to promote \"gun rights\" for white people while outlawing it for black people allowed racisim to continue without allowing to KKK to flourish</td>\n",
       "      <td>True</td>\n",
       "      <td>Animated history of the US. Of course the cartoon is highly oversimplified, and most critics consider it one of the weakest parts of the film. But it makes a valid claim which you ignore entirely: That the strategy to promote \"gun rights\" for white people and to outlaw gun possession by black people was a way to uphold racism without letting an openly terrorist organization like the KKK flourish. Did the 19th century NRA in the southern states promote gun rights for black people? I highly doubt it. But if they didn't, one of their functions was to continue the racism of the KKK. This is the key message of this part of the animation, which is again being ignored by its critics. Buell shooting in Flint. You write: \"Fact: The little boy was the class thug, already suspended from school for stabbing another kid with a pencil, and had fought with Kayla the day before\". This characterization of a six-year-old as a pencil-stabbing thug is exactly the kind of hysteria that Moore's film warns against. It is the typical right-wing reaction which looks for simple answers that do not contradict the Republican mindset. The kid was a little bastard, and the parents were involved in drugs -- case closed. But why do people deal with drugs? Because it's so much fun to do so? It is by now well documented that the CIA tolerated crack sales in US cities to fund the operation of South American \"contras\" It is equally well known that the so-called \"war on drugs\" begun under the Nixon administration is a failure which has cost hundreds of billions and made America the world leader in prison population (both in relative and absolute numbers).</td>\n",
       "      <td>[Animated history of the US., Of course the cartoon is highly oversimplified, and most critics consider it one of the weakest parts of the film., But it makes a valid claim which you ignore entirely: That the strategy to promote \"gun rights\" for white people and to outlaw gun possession by black people was a way to uphold racism without letting an openly terrorist organization like the KKK flourish., Did the 19th century NRA in the southern states promote gun rights for black people?, I highly doubt it., But if they didn't, one of their functions was to continue the racism of the KKK., This is the key message of this part of the animation, which is again being ignored by its critics., Buell shooting in Flint., You write: \"Fact: The little boy was the class thug, already suspended from school for stabbing another kid with a pencil, and had fought with Kayla the day before\"., This characterization of a six-year-old as a pencil-stabbing thug is exactly the kind of hysteria that Moore's film warns against., It is the typical right-wing reaction which looks for simple answers that do not contradict the Republican mindset., The kid was a little bastard, and the parents were involved in drugs -- case closed., But why do people deal with drugs?, Because it's so much fun to do so?, It is by now well documented that the CIA tolerated crack sales in US cities to fund the operation of South American \"contras\" It is equally well known that the so-called \"war on drugs\" begun under the Nixon administration is a failure which has cost hundreds of billions and made America the world leader in prison population (both in relative and absolute numbers)., ]</td>\n",
       "      <td>0</td>\n",
       "      <td>1</td>\n",
       "      <td>Which key message(s) do(es) this passage say the critics ignored?</td>\n",
       "      <td>[2, 6]</td>\n",
       "    </tr>\n",
       "    <tr>\n",
       "      <th>4</th>\n",
       "      <td>4</td>\n",
       "      <td>That it antagonized the KKK</td>\n",
       "      <td>False</td>\n",
       "      <td>Animated history of the US. Of course the cartoon is highly oversimplified, and most critics consider it one of the weakest parts of the film. But it makes a valid claim which you ignore entirely: That the strategy to promote \"gun rights\" for white people and to outlaw gun possession by black people was a way to uphold racism without letting an openly terrorist organization like the KKK flourish. Did the 19th century NRA in the southern states promote gun rights for black people? I highly doubt it. But if they didn't, one of their functions was to continue the racism of the KKK. This is the key message of this part of the animation, which is again being ignored by its critics. Buell shooting in Flint. You write: \"Fact: The little boy was the class thug, already suspended from school for stabbing another kid with a pencil, and had fought with Kayla the day before\". This characterization of a six-year-old as a pencil-stabbing thug is exactly the kind of hysteria that Moore's film warns against. It is the typical right-wing reaction which looks for simple answers that do not contradict the Republican mindset. The kid was a little bastard, and the parents were involved in drugs -- case closed. But why do people deal with drugs? Because it's so much fun to do so? It is by now well documented that the CIA tolerated crack sales in US cities to fund the operation of South American \"contras\" It is equally well known that the so-called \"war on drugs\" begun under the Nixon administration is a failure which has cost hundreds of billions and made America the world leader in prison population (both in relative and absolute numbers).</td>\n",
       "      <td>[Animated history of the US., Of course the cartoon is highly oversimplified, and most critics consider it one of the weakest parts of the film., But it makes a valid claim which you ignore entirely: That the strategy to promote \"gun rights\" for white people and to outlaw gun possession by black people was a way to uphold racism without letting an openly terrorist organization like the KKK flourish., Did the 19th century NRA in the southern states promote gun rights for black people?, I highly doubt it., But if they didn't, one of their functions was to continue the racism of the KKK., This is the key message of this part of the animation, which is again being ignored by its critics., Buell shooting in Flint., You write: \"Fact: The little boy was the class thug, already suspended from school for stabbing another kid with a pencil, and had fought with Kayla the day before\"., This characterization of a six-year-old as a pencil-stabbing thug is exactly the kind of hysteria that Moore's film warns against., It is the typical right-wing reaction which looks for simple answers that do not contradict the Republican mindset., The kid was a little bastard, and the parents were involved in drugs -- case closed., But why do people deal with drugs?, Because it's so much fun to do so?, It is by now well documented that the CIA tolerated crack sales in US cities to fund the operation of South American \"contras\" It is equally well known that the so-called \"war on drugs\" begun under the Nixon administration is a failure which has cost hundreds of billions and made America the world leader in prison population (both in relative and absolute numbers)., ]</td>\n",
       "      <td>0</td>\n",
       "      <td>1</td>\n",
       "      <td>Which key message(s) do(es) this passage say the critics ignored?</td>\n",
       "      <td>[2, 6]</td>\n",
       "    </tr>\n",
       "  </tbody>\n",
       "</table>\n",
       "</div>"
      ],
      "text/plain": [
       "   aid  \\\n",
       "0  0     \n",
       "1  1     \n",
       "2  2     \n",
       "3  3     \n",
       "4  4     \n",
       "\n",
       "                                                                                                                                                      answer  \\\n",
       "0  Yes                                                                                                                                                         \n",
       "1  Uphold, and continue                                                                                                                                        \n",
       "2  No                                                                                                                                                          \n",
       "3  The strategy to promote \"gun rights\" for white people while outlawing it for black people allowed racisim to continue without allowing to KKK to flourish   \n",
       "4  That it antagonized the KKK                                                                                                                                 \n",
       "\n",
       "   label  \\\n",
       "0  True    \n",
       "1  True    \n",
       "2  False   \n",
       "3  True    \n",
       "4  False   \n",
       "\n",
       "                                                                                                                                                                                                                                                                                                                                                                                                                                                                                                                                                                                                                                                                                                                                                                                                                                                                                                                                                                                                                                                                                                                                                                                                                                                                                                                                                                                                                                                                                                                                                                                                                                                                                                         paragraph  \\\n",
       "0  Animated history of the US. Of course the cartoon is highly oversimplified, and most critics consider it one of the weakest parts of the film. But it makes a valid claim which you ignore entirely: That the strategy to promote \"gun rights\" for white people and to outlaw gun possession by black people was a way to uphold racism without letting an openly terrorist organization like the KKK flourish. Did the 19th century NRA in the southern states promote gun rights for black people? I highly doubt it. But if they didn't, one of their functions was to continue the racism of the KKK. This is the key message of this part of the animation, which is again being ignored by its critics. Buell shooting in Flint. You write: \"Fact: The little boy was the class thug, already suspended from school for stabbing another kid with a pencil, and had fought with Kayla the day before\". This characterization of a six-year-old as a pencil-stabbing thug is exactly the kind of hysteria that Moore's film warns against. It is the typical right-wing reaction which looks for simple answers that do not contradict the Republican mindset. The kid was a little bastard, and the parents were involved in drugs -- case closed. But why do people deal with drugs? Because it's so much fun to do so? It is by now well documented that the CIA tolerated crack sales in US cities to fund the operation of South American \"contras\" It is equally well known that the so-called \"war on drugs\" begun under the Nixon administration is a failure which has cost hundreds of billions and made America the world leader in prison population (both in relative and absolute numbers).    \n",
       "1  Animated history of the US. Of course the cartoon is highly oversimplified, and most critics consider it one of the weakest parts of the film. But it makes a valid claim which you ignore entirely: That the strategy to promote \"gun rights\" for white people and to outlaw gun possession by black people was a way to uphold racism without letting an openly terrorist organization like the KKK flourish. Did the 19th century NRA in the southern states promote gun rights for black people? I highly doubt it. But if they didn't, one of their functions was to continue the racism of the KKK. This is the key message of this part of the animation, which is again being ignored by its critics. Buell shooting in Flint. You write: \"Fact: The little boy was the class thug, already suspended from school for stabbing another kid with a pencil, and had fought with Kayla the day before\". This characterization of a six-year-old as a pencil-stabbing thug is exactly the kind of hysteria that Moore's film warns against. It is the typical right-wing reaction which looks for simple answers that do not contradict the Republican mindset. The kid was a little bastard, and the parents were involved in drugs -- case closed. But why do people deal with drugs? Because it's so much fun to do so? It is by now well documented that the CIA tolerated crack sales in US cities to fund the operation of South American \"contras\" It is equally well known that the so-called \"war on drugs\" begun under the Nixon administration is a failure which has cost hundreds of billions and made America the world leader in prison population (both in relative and absolute numbers).    \n",
       "2  Animated history of the US. Of course the cartoon is highly oversimplified, and most critics consider it one of the weakest parts of the film. But it makes a valid claim which you ignore entirely: That the strategy to promote \"gun rights\" for white people and to outlaw gun possession by black people was a way to uphold racism without letting an openly terrorist organization like the KKK flourish. Did the 19th century NRA in the southern states promote gun rights for black people? I highly doubt it. But if they didn't, one of their functions was to continue the racism of the KKK. This is the key message of this part of the animation, which is again being ignored by its critics. Buell shooting in Flint. You write: \"Fact: The little boy was the class thug, already suspended from school for stabbing another kid with a pencil, and had fought with Kayla the day before\". This characterization of a six-year-old as a pencil-stabbing thug is exactly the kind of hysteria that Moore's film warns against. It is the typical right-wing reaction which looks for simple answers that do not contradict the Republican mindset. The kid was a little bastard, and the parents were involved in drugs -- case closed. But why do people deal with drugs? Because it's so much fun to do so? It is by now well documented that the CIA tolerated crack sales in US cities to fund the operation of South American \"contras\" It is equally well known that the so-called \"war on drugs\" begun under the Nixon administration is a failure which has cost hundreds of billions and made America the world leader in prison population (both in relative and absolute numbers).    \n",
       "3  Animated history of the US. Of course the cartoon is highly oversimplified, and most critics consider it one of the weakest parts of the film. But it makes a valid claim which you ignore entirely: That the strategy to promote \"gun rights\" for white people and to outlaw gun possession by black people was a way to uphold racism without letting an openly terrorist organization like the KKK flourish. Did the 19th century NRA in the southern states promote gun rights for black people? I highly doubt it. But if they didn't, one of their functions was to continue the racism of the KKK. This is the key message of this part of the animation, which is again being ignored by its critics. Buell shooting in Flint. You write: \"Fact: The little boy was the class thug, already suspended from school for stabbing another kid with a pencil, and had fought with Kayla the day before\". This characterization of a six-year-old as a pencil-stabbing thug is exactly the kind of hysteria that Moore's film warns against. It is the typical right-wing reaction which looks for simple answers that do not contradict the Republican mindset. The kid was a little bastard, and the parents were involved in drugs -- case closed. But why do people deal with drugs? Because it's so much fun to do so? It is by now well documented that the CIA tolerated crack sales in US cities to fund the operation of South American \"contras\" It is equally well known that the so-called \"war on drugs\" begun under the Nixon administration is a failure which has cost hundreds of billions and made America the world leader in prison population (both in relative and absolute numbers).    \n",
       "4  Animated history of the US. Of course the cartoon is highly oversimplified, and most critics consider it one of the weakest parts of the film. But it makes a valid claim which you ignore entirely: That the strategy to promote \"gun rights\" for white people and to outlaw gun possession by black people was a way to uphold racism without letting an openly terrorist organization like the KKK flourish. Did the 19th century NRA in the southern states promote gun rights for black people? I highly doubt it. But if they didn't, one of their functions was to continue the racism of the KKK. This is the key message of this part of the animation, which is again being ignored by its critics. Buell shooting in Flint. You write: \"Fact: The little boy was the class thug, already suspended from school for stabbing another kid with a pencil, and had fought with Kayla the day before\". This characterization of a six-year-old as a pencil-stabbing thug is exactly the kind of hysteria that Moore's film warns against. It is the typical right-wing reaction which looks for simple answers that do not contradict the Republican mindset. The kid was a little bastard, and the parents were involved in drugs -- case closed. But why do people deal with drugs? Because it's so much fun to do so? It is by now well documented that the CIA tolerated crack sales in US cities to fund the operation of South American \"contras\" It is equally well known that the so-called \"war on drugs\" begun under the Nixon administration is a failure which has cost hundreds of billions and made America the world leader in prison population (both in relative and absolute numbers).    \n",
       "\n",
       "                                                                                                                                                                                                                                                                                                                                                                                                                                                                                                                                                                                                                                                                                                                                                                                                                                                                                                                                                                                                                                                                                                                                                                                                                                                                                                                                                                                                                                                                                                                                                                                                                                                                                                                paragraph_sent_list  \\\n",
       "0  [Animated history of the US., Of course the cartoon is highly oversimplified, and most critics consider it one of the weakest parts of the film., But it makes a valid claim which you ignore entirely: That the strategy to promote \"gun rights\" for white people and to outlaw gun possession by black people was a way to uphold racism without letting an openly terrorist organization like the KKK flourish., Did the 19th century NRA in the southern states promote gun rights for black people?, I highly doubt it., But if they didn't, one of their functions was to continue the racism of the KKK., This is the key message of this part of the animation, which is again being ignored by its critics., Buell shooting in Flint., You write: \"Fact: The little boy was the class thug, already suspended from school for stabbing another kid with a pencil, and had fought with Kayla the day before\"., This characterization of a six-year-old as a pencil-stabbing thug is exactly the kind of hysteria that Moore's film warns against., It is the typical right-wing reaction which looks for simple answers that do not contradict the Republican mindset., The kid was a little bastard, and the parents were involved in drugs -- case closed., But why do people deal with drugs?, Because it's so much fun to do so?, It is by now well documented that the CIA tolerated crack sales in US cities to fund the operation of South American \"contras\" It is equally well known that the so-called \"war on drugs\" begun under the Nixon administration is a failure which has cost hundreds of billions and made America the world leader in prison population (both in relative and absolute numbers)., ]   \n",
       "1  [Animated history of the US., Of course the cartoon is highly oversimplified, and most critics consider it one of the weakest parts of the film., But it makes a valid claim which you ignore entirely: That the strategy to promote \"gun rights\" for white people and to outlaw gun possession by black people was a way to uphold racism without letting an openly terrorist organization like the KKK flourish., Did the 19th century NRA in the southern states promote gun rights for black people?, I highly doubt it., But if they didn't, one of their functions was to continue the racism of the KKK., This is the key message of this part of the animation, which is again being ignored by its critics., Buell shooting in Flint., You write: \"Fact: The little boy was the class thug, already suspended from school for stabbing another kid with a pencil, and had fought with Kayla the day before\"., This characterization of a six-year-old as a pencil-stabbing thug is exactly the kind of hysteria that Moore's film warns against., It is the typical right-wing reaction which looks for simple answers that do not contradict the Republican mindset., The kid was a little bastard, and the parents were involved in drugs -- case closed., But why do people deal with drugs?, Because it's so much fun to do so?, It is by now well documented that the CIA tolerated crack sales in US cities to fund the operation of South American \"contras\" It is equally well known that the so-called \"war on drugs\" begun under the Nixon administration is a failure which has cost hundreds of billions and made America the world leader in prison population (both in relative and absolute numbers)., ]   \n",
       "2  [Animated history of the US., Of course the cartoon is highly oversimplified, and most critics consider it one of the weakest parts of the film., But it makes a valid claim which you ignore entirely: That the strategy to promote \"gun rights\" for white people and to outlaw gun possession by black people was a way to uphold racism without letting an openly terrorist organization like the KKK flourish., Did the 19th century NRA in the southern states promote gun rights for black people?, I highly doubt it., But if they didn't, one of their functions was to continue the racism of the KKK., This is the key message of this part of the animation, which is again being ignored by its critics., Buell shooting in Flint., You write: \"Fact: The little boy was the class thug, already suspended from school for stabbing another kid with a pencil, and had fought with Kayla the day before\"., This characterization of a six-year-old as a pencil-stabbing thug is exactly the kind of hysteria that Moore's film warns against., It is the typical right-wing reaction which looks for simple answers that do not contradict the Republican mindset., The kid was a little bastard, and the parents were involved in drugs -- case closed., But why do people deal with drugs?, Because it's so much fun to do so?, It is by now well documented that the CIA tolerated crack sales in US cities to fund the operation of South American \"contras\" It is equally well known that the so-called \"war on drugs\" begun under the Nixon administration is a failure which has cost hundreds of billions and made America the world leader in prison population (both in relative and absolute numbers)., ]   \n",
       "3  [Animated history of the US., Of course the cartoon is highly oversimplified, and most critics consider it one of the weakest parts of the film., But it makes a valid claim which you ignore entirely: That the strategy to promote \"gun rights\" for white people and to outlaw gun possession by black people was a way to uphold racism without letting an openly terrorist organization like the KKK flourish., Did the 19th century NRA in the southern states promote gun rights for black people?, I highly doubt it., But if they didn't, one of their functions was to continue the racism of the KKK., This is the key message of this part of the animation, which is again being ignored by its critics., Buell shooting in Flint., You write: \"Fact: The little boy was the class thug, already suspended from school for stabbing another kid with a pencil, and had fought with Kayla the day before\"., This characterization of a six-year-old as a pencil-stabbing thug is exactly the kind of hysteria that Moore's film warns against., It is the typical right-wing reaction which looks for simple answers that do not contradict the Republican mindset., The kid was a little bastard, and the parents were involved in drugs -- case closed., But why do people deal with drugs?, Because it's so much fun to do so?, It is by now well documented that the CIA tolerated crack sales in US cities to fund the operation of South American \"contras\" It is equally well known that the so-called \"war on drugs\" begun under the Nixon administration is a failure which has cost hundreds of billions and made America the world leader in prison population (both in relative and absolute numbers)., ]   \n",
       "4  [Animated history of the US., Of course the cartoon is highly oversimplified, and most critics consider it one of the weakest parts of the film., But it makes a valid claim which you ignore entirely: That the strategy to promote \"gun rights\" for white people and to outlaw gun possession by black people was a way to uphold racism without letting an openly terrorist organization like the KKK flourish., Did the 19th century NRA in the southern states promote gun rights for black people?, I highly doubt it., But if they didn't, one of their functions was to continue the racism of the KKK., This is the key message of this part of the animation, which is again being ignored by its critics., Buell shooting in Flint., You write: \"Fact: The little boy was the class thug, already suspended from school for stabbing another kid with a pencil, and had fought with Kayla the day before\"., This characterization of a six-year-old as a pencil-stabbing thug is exactly the kind of hysteria that Moore's film warns against., It is the typical right-wing reaction which looks for simple answers that do not contradict the Republican mindset., The kid was a little bastard, and the parents were involved in drugs -- case closed., But why do people deal with drugs?, Because it's so much fun to do so?, It is by now well documented that the CIA tolerated crack sales in US cities to fund the operation of South American \"contras\" It is equally well known that the so-called \"war on drugs\" begun under the Nixon administration is a failure which has cost hundreds of billions and made America the world leader in prison population (both in relative and absolute numbers)., ]   \n",
       "\n",
       "   pid  qid  \\\n",
       "0  0    0     \n",
       "1  0    0     \n",
       "2  0    0     \n",
       "3  0    1     \n",
       "4  0    1     \n",
       "\n",
       "                                                                           question  \\\n",
       "0  Does the author claim the animated films message is that the NRA upholds racism?   \n",
       "1  Does the author claim the animated films message is that the NRA upholds racism?   \n",
       "2  Does the author claim the animated films message is that the NRA upholds racism?   \n",
       "3  Which key message(s) do(es) this passage say the critics ignored?                  \n",
       "4  Which key message(s) do(es) this passage say the critics ignored?                  \n",
       "\n",
       "      sent_used  \n",
       "0  [1, 2, 3, 5]  \n",
       "1  [1, 2, 3, 5]  \n",
       "2  [1, 2, 3, 5]  \n",
       "3  [2, 6]        \n",
       "4  [2, 6]        "
      ]
     },
     "execution_count": 5,
     "metadata": {},
     "output_type": "execute_result"
    }
   ],
   "source": [
    "jsonl_paths = {}\n",
    "multirc_dfs = {}\n",
    "\n",
    "for split in splits:\n",
    "    jsonl_paths[split] = get_jsonl_path(data_dir, task_name, split)\n",
    "    multirc_dfs[split] = pd.DataFrame.from_records(get_rows(jsonl_paths[split], max_data_samples))\n",
    "\n",
    "multirc_dfs[\"train\"].head()"
   ]
  },
  {
   "cell_type": "markdown",
   "metadata": {},
   "source": [
    "## Train vanilla model\n",
    "To start, let's train a baseline with BERT to see how MultiRC performs."
   ]
  },
  {
   "cell_type": "code",
   "execution_count": 6,
   "metadata": {},
   "outputs": [],
   "source": [
    "bert_model = \"bert-large-cased\"\n",
    "tokenizer_name = \"bert-large-cased\"\n",
    "batch_size = 128\n",
    "max_sequence_length = 256"
   ]
  },
  {
   "cell_type": "code",
   "execution_count": 7,
   "metadata": {},
   "outputs": [],
   "source": [
    "import superglue_tasks\n",
    "\n",
    "from snorkel.mtl.trainer import Trainer\n",
    "from snorkel.mtl.snorkel_config import default_config as config\n",
    "\n",
    "task = superglue_tasks.task_funcs[task_name](bert_model)"
   ]
  },
  {
   "cell_type": "code",
   "execution_count": 8,
   "metadata": {},
   "outputs": [],
   "source": [
    "from snorkel.mtl.model import MultitaskModel\n",
    "\n",
    "vanilla_model = MultitaskModel(\n",
    "    name=f\"SuperGLUE\",\n",
    "    tasks=[task], \n",
    "    dataparallel=False,\n",
    "    device=0 # use CPU\n",
    ")"
   ]
  },
  {
   "cell_type": "code",
   "execution_count": 9,
   "metadata": {},
   "outputs": [],
   "source": [
    "from snorkel.mtl.data import MultitaskDataLoader\n",
    "\n",
    "from dataloaders import get_dataloaders\n",
    "from superglue_parsers.multirc import parse_from_rows\n",
    "from tokenizer import get_tokenizer\n",
    "\n",
    "tokenizer = get_tokenizer(tokenizer_name)\n",
    "\n",
    "# Construct training dataloader from original DF\n",
    "dataloaders = []\n",
    "\n",
    "for split in splits:\n",
    "    rows = multirc_dfs[split].to_dict(\"records\")\n",
    "    dataset = parse_from_rows(rows, tokenizer, max_sequence_length)\n",
    "    dataloaders.append(MultitaskDataLoader(\n",
    "        task_to_label_dict={task_name: \"labels\"},\n",
    "        dataset=dataset,\n",
    "        split=split,\n",
    "        batch_size=batch_size,\n",
    "        shuffle=True if split == 'train' else False,\n",
    "    ))"
   ]
  },
  {
   "cell_type": "code",
   "execution_count": 10,
   "metadata": {},
   "outputs": [],
   "source": [
    "trainer_config = {\n",
    "    \"lr\": 1e-5,\n",
    "    \"optimizer\": \"adam\",\n",
    "    \"n_epochs\": 10,\n",
    "    \"conter_unit\": \"epochs\",\n",
    "    \"evaluation_freq\": 0.25,\n",
    "    \"grad_clip\": 5.0,\n",
    "    \"amsgrad\": True,\n",
    "}\n",
    "\n",
    "# 1. Train your own model\n",
    "# trainer = Trainer(**trainer_config)\n",
    "# trainer.train_model(vanilla_model, dataloaders)\n",
    "\n",
    "# 2. Use our pretrained model!\n",
    "# multirc_vanilla_path = \"TODO\"\n",
    "# vanilla_model.load(multirc_vanilla_path)"
   ]
  },
  {
   "cell_type": "code",
   "execution_count": 11,
   "metadata": {},
   "outputs": [
    {
     "name": "stdout",
     "output_type": "stream",
     "text": [
      "CPU times: user 29.7 s, sys: 6.52 s, total: 36.2 s\n",
      "Wall time: 33.9 s\n"
     ]
    },
    {
     "data": {
      "text/plain": [
       "{'MultiRC/SuperGLUE/valid/f1': 0.3844086021505376}"
      ]
     },
     "execution_count": 11,
     "metadata": {},
     "output_type": "execute_result"
    }
   ],
   "source": [
    "%%time\n",
    "vanilla_model.score(dataloaders[1])"
   ]
  },
  {
   "cell_type": "markdown",
   "metadata": {},
   "source": [
    "## Write transformation functions"
   ]
  },
  {
   "cell_type": "markdown",
   "metadata": {},
   "source": [
    "We notice a simple pattern over the original data— _question answers often rely on a subset of the context paragraphs—provided by metadata!_\n",
    "\n",
    "Let's write a transformation function (TF) to reduce the length of input that our model will need to encode."
   ]
  },
  {
   "cell_type": "code",
   "execution_count": 12,
   "metadata": {},
   "outputs": [],
   "source": [
    "@transformation_function\n",
    "def reduce_para_length(x):\n",
    "    # Only use the relevant sentences \n",
    "    if len(x.sent_used) > 0:\n",
    "        x.paragraph = \" \".join([x.paragraph_sent_list[i] for i in x.sent_used])\n",
    "    return x"
   ]
  },
  {
   "cell_type": "markdown",
   "metadata": {},
   "source": [
    "In this case, we trivially apply this TF to every example in the dataset."
   ]
  },
  {
   "cell_type": "code",
   "execution_count": 13,
   "metadata": {},
   "outputs": [],
   "source": [
    "tfs = [reduce_para_length]\n",
    "policy = RandomAugmentationPolicy(len([reduce_para_length]), sequence_length=1)"
   ]
  },
  {
   "cell_type": "markdown",
   "metadata": {},
   "source": [
    "Note, that we set `keep_original=False`, which means we _do not want to keep the original examples_.\n",
    "In other words, we are replacing the longer paragraphs with reduced versions!"
   ]
  },
  {
   "cell_type": "code",
   "execution_count": 14,
   "metadata": {},
   "outputs": [
    {
     "name": "stderr",
     "output_type": "stream",
     "text": [
      "100%|██████████| 1000/1000 [00:00<00:00, 1326.39it/s]\n",
      "100%|██████████| 1000/1000 [00:00<00:00, 1646.93it/s]\n"
     ]
    }
   ],
   "source": [
    "random.seed(1)\n",
    "multirc_dfs_reduced = {}\n",
    "applier = PandasTFApplier(tfs, policy, k=1, keep_original=False)\n",
    "\n",
    "for split in splits:\n",
    "    multirc_dfs_reduced[split] = applier.apply(multirc_dfs[split])"
   ]
  },
  {
   "cell_type": "markdown",
   "metadata": {},
   "source": [
    "Let's take a look at some of the reduced examples."
   ]
  },
  {
   "cell_type": "code",
   "execution_count": 15,
   "metadata": {},
   "outputs": [
    {
     "data": {
      "text/html": [
       "<div>\n",
       "<style scoped>\n",
       "    .dataframe tbody tr th:only-of-type {\n",
       "        vertical-align: middle;\n",
       "    }\n",
       "\n",
       "    .dataframe tbody tr th {\n",
       "        vertical-align: top;\n",
       "    }\n",
       "\n",
       "    .dataframe thead th {\n",
       "        text-align: right;\n",
       "    }\n",
       "</style>\n",
       "<table border=\"1\" class=\"dataframe\">\n",
       "  <thead>\n",
       "    <tr style=\"text-align: right;\">\n",
       "      <th></th>\n",
       "      <th>aid</th>\n",
       "      <th>answer</th>\n",
       "      <th>label</th>\n",
       "      <th>paragraph</th>\n",
       "      <th>paragraph_sent_list</th>\n",
       "      <th>pid</th>\n",
       "      <th>qid</th>\n",
       "      <th>question</th>\n",
       "      <th>sent_used</th>\n",
       "    </tr>\n",
       "  </thead>\n",
       "  <tbody>\n",
       "    <tr>\n",
       "      <th>0</th>\n",
       "      <td>0</td>\n",
       "      <td>Yes</td>\n",
       "      <td>True</td>\n",
       "      <td>Of course the cartoon is highly oversimplified, and most critics consider it one of the weakest parts of the film. But it makes a valid claim which you ignore entirely: That the strategy to promote \"gun rights\" for white people and to outlaw gun possession by black people was a way to uphold racism without letting an openly terrorist organization like the KKK flourish. Did the 19th century NRA in the southern states promote gun rights for black people? But if they didn't, one of their functions was to continue the racism of the KKK.</td>\n",
       "      <td>[Animated history of the US., Of course the cartoon is highly oversimplified, and most critics consider it one of the weakest parts of the film., But it makes a valid claim which you ignore entirely: That the strategy to promote \"gun rights\" for white people and to outlaw gun possession by black people was a way to uphold racism without letting an openly terrorist organization like the KKK flourish., Did the 19th century NRA in the southern states promote gun rights for black people?, I highly doubt it., But if they didn't, one of their functions was to continue the racism of the KKK., This is the key message of this part of the animation, which is again being ignored by its critics., Buell shooting in Flint., You write: \"Fact: The little boy was the class thug, already suspended from school for stabbing another kid with a pencil, and had fought with Kayla the day before\"., This characterization of a six-year-old as a pencil-stabbing thug is exactly the kind of hysteria that Moore's film warns against., It is the typical right-wing reaction which looks for simple answers that do not contradict the Republican mindset., The kid was a little bastard, and the parents were involved in drugs -- case closed., But why do people deal with drugs?, Because it's so much fun to do so?, It is by now well documented that the CIA tolerated crack sales in US cities to fund the operation of South American \"contras\" It is equally well known that the so-called \"war on drugs\" begun under the Nixon administration is a failure which has cost hundreds of billions and made America the world leader in prison population (both in relative and absolute numbers)., ]</td>\n",
       "      <td>0</td>\n",
       "      <td>0</td>\n",
       "      <td>Does the author claim the animated films message is that the NRA upholds racism?</td>\n",
       "      <td>[1, 2, 3, 5]</td>\n",
       "    </tr>\n",
       "    <tr>\n",
       "      <th>1</th>\n",
       "      <td>1</td>\n",
       "      <td>Uphold, and continue</td>\n",
       "      <td>True</td>\n",
       "      <td>Of course the cartoon is highly oversimplified, and most critics consider it one of the weakest parts of the film. But it makes a valid claim which you ignore entirely: That the strategy to promote \"gun rights\" for white people and to outlaw gun possession by black people was a way to uphold racism without letting an openly terrorist organization like the KKK flourish. Did the 19th century NRA in the southern states promote gun rights for black people? But if they didn't, one of their functions was to continue the racism of the KKK.</td>\n",
       "      <td>[Animated history of the US., Of course the cartoon is highly oversimplified, and most critics consider it one of the weakest parts of the film., But it makes a valid claim which you ignore entirely: That the strategy to promote \"gun rights\" for white people and to outlaw gun possession by black people was a way to uphold racism without letting an openly terrorist organization like the KKK flourish., Did the 19th century NRA in the southern states promote gun rights for black people?, I highly doubt it., But if they didn't, one of their functions was to continue the racism of the KKK., This is the key message of this part of the animation, which is again being ignored by its critics., Buell shooting in Flint., You write: \"Fact: The little boy was the class thug, already suspended from school for stabbing another kid with a pencil, and had fought with Kayla the day before\"., This characterization of a six-year-old as a pencil-stabbing thug is exactly the kind of hysteria that Moore's film warns against., It is the typical right-wing reaction which looks for simple answers that do not contradict the Republican mindset., The kid was a little bastard, and the parents were involved in drugs -- case closed., But why do people deal with drugs?, Because it's so much fun to do so?, It is by now well documented that the CIA tolerated crack sales in US cities to fund the operation of South American \"contras\" It is equally well known that the so-called \"war on drugs\" begun under the Nixon administration is a failure which has cost hundreds of billions and made America the world leader in prison population (both in relative and absolute numbers)., ]</td>\n",
       "      <td>0</td>\n",
       "      <td>0</td>\n",
       "      <td>Does the author claim the animated films message is that the NRA upholds racism?</td>\n",
       "      <td>[1, 2, 3, 5]</td>\n",
       "    </tr>\n",
       "    <tr>\n",
       "      <th>2</th>\n",
       "      <td>2</td>\n",
       "      <td>No</td>\n",
       "      <td>False</td>\n",
       "      <td>Of course the cartoon is highly oversimplified, and most critics consider it one of the weakest parts of the film. But it makes a valid claim which you ignore entirely: That the strategy to promote \"gun rights\" for white people and to outlaw gun possession by black people was a way to uphold racism without letting an openly terrorist organization like the KKK flourish. Did the 19th century NRA in the southern states promote gun rights for black people? But if they didn't, one of their functions was to continue the racism of the KKK.</td>\n",
       "      <td>[Animated history of the US., Of course the cartoon is highly oversimplified, and most critics consider it one of the weakest parts of the film., But it makes a valid claim which you ignore entirely: That the strategy to promote \"gun rights\" for white people and to outlaw gun possession by black people was a way to uphold racism without letting an openly terrorist organization like the KKK flourish., Did the 19th century NRA in the southern states promote gun rights for black people?, I highly doubt it., But if they didn't, one of their functions was to continue the racism of the KKK., This is the key message of this part of the animation, which is again being ignored by its critics., Buell shooting in Flint., You write: \"Fact: The little boy was the class thug, already suspended from school for stabbing another kid with a pencil, and had fought with Kayla the day before\"., This characterization of a six-year-old as a pencil-stabbing thug is exactly the kind of hysteria that Moore's film warns against., It is the typical right-wing reaction which looks for simple answers that do not contradict the Republican mindset., The kid was a little bastard, and the parents were involved in drugs -- case closed., But why do people deal with drugs?, Because it's so much fun to do so?, It is by now well documented that the CIA tolerated crack sales in US cities to fund the operation of South American \"contras\" It is equally well known that the so-called \"war on drugs\" begun under the Nixon administration is a failure which has cost hundreds of billions and made America the world leader in prison population (both in relative and absolute numbers)., ]</td>\n",
       "      <td>0</td>\n",
       "      <td>0</td>\n",
       "      <td>Does the author claim the animated films message is that the NRA upholds racism?</td>\n",
       "      <td>[1, 2, 3, 5]</td>\n",
       "    </tr>\n",
       "    <tr>\n",
       "      <th>3</th>\n",
       "      <td>3</td>\n",
       "      <td>The strategy to promote \"gun rights\" for white people while outlawing it for black people allowed racisim to continue without allowing to KKK to flourish</td>\n",
       "      <td>True</td>\n",
       "      <td>But it makes a valid claim which you ignore entirely: That the strategy to promote \"gun rights\" for white people and to outlaw gun possession by black people was a way to uphold racism without letting an openly terrorist organization like the KKK flourish. This is the key message of this part of the animation, which is again being ignored by its critics.</td>\n",
       "      <td>[Animated history of the US., Of course the cartoon is highly oversimplified, and most critics consider it one of the weakest parts of the film., But it makes a valid claim which you ignore entirely: That the strategy to promote \"gun rights\" for white people and to outlaw gun possession by black people was a way to uphold racism without letting an openly terrorist organization like the KKK flourish., Did the 19th century NRA in the southern states promote gun rights for black people?, I highly doubt it., But if they didn't, one of their functions was to continue the racism of the KKK., This is the key message of this part of the animation, which is again being ignored by its critics., Buell shooting in Flint., You write: \"Fact: The little boy was the class thug, already suspended from school for stabbing another kid with a pencil, and had fought with Kayla the day before\"., This characterization of a six-year-old as a pencil-stabbing thug is exactly the kind of hysteria that Moore's film warns against., It is the typical right-wing reaction which looks for simple answers that do not contradict the Republican mindset., The kid was a little bastard, and the parents were involved in drugs -- case closed., But why do people deal with drugs?, Because it's so much fun to do so?, It is by now well documented that the CIA tolerated crack sales in US cities to fund the operation of South American \"contras\" It is equally well known that the so-called \"war on drugs\" begun under the Nixon administration is a failure which has cost hundreds of billions and made America the world leader in prison population (both in relative and absolute numbers)., ]</td>\n",
       "      <td>0</td>\n",
       "      <td>1</td>\n",
       "      <td>Which key message(s) do(es) this passage say the critics ignored?</td>\n",
       "      <td>[2, 6]</td>\n",
       "    </tr>\n",
       "    <tr>\n",
       "      <th>4</th>\n",
       "      <td>4</td>\n",
       "      <td>That it antagonized the KKK</td>\n",
       "      <td>False</td>\n",
       "      <td>But it makes a valid claim which you ignore entirely: That the strategy to promote \"gun rights\" for white people and to outlaw gun possession by black people was a way to uphold racism without letting an openly terrorist organization like the KKK flourish. This is the key message of this part of the animation, which is again being ignored by its critics.</td>\n",
       "      <td>[Animated history of the US., Of course the cartoon is highly oversimplified, and most critics consider it one of the weakest parts of the film., But it makes a valid claim which you ignore entirely: That the strategy to promote \"gun rights\" for white people and to outlaw gun possession by black people was a way to uphold racism without letting an openly terrorist organization like the KKK flourish., Did the 19th century NRA in the southern states promote gun rights for black people?, I highly doubt it., But if they didn't, one of their functions was to continue the racism of the KKK., This is the key message of this part of the animation, which is again being ignored by its critics., Buell shooting in Flint., You write: \"Fact: The little boy was the class thug, already suspended from school for stabbing another kid with a pencil, and had fought with Kayla the day before\"., This characterization of a six-year-old as a pencil-stabbing thug is exactly the kind of hysteria that Moore's film warns against., It is the typical right-wing reaction which looks for simple answers that do not contradict the Republican mindset., The kid was a little bastard, and the parents were involved in drugs -- case closed., But why do people deal with drugs?, Because it's so much fun to do so?, It is by now well documented that the CIA tolerated crack sales in US cities to fund the operation of South American \"contras\" It is equally well known that the so-called \"war on drugs\" begun under the Nixon administration is a failure which has cost hundreds of billions and made America the world leader in prison population (both in relative and absolute numbers)., ]</td>\n",
       "      <td>0</td>\n",
       "      <td>1</td>\n",
       "      <td>Which key message(s) do(es) this passage say the critics ignored?</td>\n",
       "      <td>[2, 6]</td>\n",
       "    </tr>\n",
       "  </tbody>\n",
       "</table>\n",
       "</div>"
      ],
      "text/plain": [
       "  aid  \\\n",
       "0  0    \n",
       "1  1    \n",
       "2  2    \n",
       "3  3    \n",
       "4  4    \n",
       "\n",
       "                                                                                                                                                      answer  \\\n",
       "0  Yes                                                                                                                                                         \n",
       "1  Uphold, and continue                                                                                                                                        \n",
       "2  No                                                                                                                                                          \n",
       "3  The strategy to promote \"gun rights\" for white people while outlawing it for black people allowed racisim to continue without allowing to KKK to flourish   \n",
       "4  That it antagonized the KKK                                                                                                                                 \n",
       "\n",
       "   label  \\\n",
       "0  True    \n",
       "1  True    \n",
       "2  False   \n",
       "3  True    \n",
       "4  False   \n",
       "\n",
       "                                                                                                                                                                                                                                                                                                                                                                                                                                                                                                                                                    paragraph  \\\n",
       "0  Of course the cartoon is highly oversimplified, and most critics consider it one of the weakest parts of the film. But it makes a valid claim which you ignore entirely: That the strategy to promote \"gun rights\" for white people and to outlaw gun possession by black people was a way to uphold racism without letting an openly terrorist organization like the KKK flourish. Did the 19th century NRA in the southern states promote gun rights for black people? But if they didn't, one of their functions was to continue the racism of the KKK.   \n",
       "1  Of course the cartoon is highly oversimplified, and most critics consider it one of the weakest parts of the film. But it makes a valid claim which you ignore entirely: That the strategy to promote \"gun rights\" for white people and to outlaw gun possession by black people was a way to uphold racism without letting an openly terrorist organization like the KKK flourish. Did the 19th century NRA in the southern states promote gun rights for black people? But if they didn't, one of their functions was to continue the racism of the KKK.   \n",
       "2  Of course the cartoon is highly oversimplified, and most critics consider it one of the weakest parts of the film. But it makes a valid claim which you ignore entirely: That the strategy to promote \"gun rights\" for white people and to outlaw gun possession by black people was a way to uphold racism without letting an openly terrorist organization like the KKK flourish. Did the 19th century NRA in the southern states promote gun rights for black people? But if they didn't, one of their functions was to continue the racism of the KKK.   \n",
       "3  But it makes a valid claim which you ignore entirely: That the strategy to promote \"gun rights\" for white people and to outlaw gun possession by black people was a way to uphold racism without letting an openly terrorist organization like the KKK flourish. This is the key message of this part of the animation, which is again being ignored by its critics.                                                                                                                                                                                         \n",
       "4  But it makes a valid claim which you ignore entirely: That the strategy to promote \"gun rights\" for white people and to outlaw gun possession by black people was a way to uphold racism without letting an openly terrorist organization like the KKK flourish. This is the key message of this part of the animation, which is again being ignored by its critics.                                                                                                                                                                                         \n",
       "\n",
       "                                                                                                                                                                                                                                                                                                                                                                                                                                                                                                                                                                                                                                                                                                                                                                                                                                                                                                                                                                                                                                                                                                                                                                                                                                                                                                                                                                                                                                                                                                                                                                                                                                                                                                                paragraph_sent_list  \\\n",
       "0  [Animated history of the US., Of course the cartoon is highly oversimplified, and most critics consider it one of the weakest parts of the film., But it makes a valid claim which you ignore entirely: That the strategy to promote \"gun rights\" for white people and to outlaw gun possession by black people was a way to uphold racism without letting an openly terrorist organization like the KKK flourish., Did the 19th century NRA in the southern states promote gun rights for black people?, I highly doubt it., But if they didn't, one of their functions was to continue the racism of the KKK., This is the key message of this part of the animation, which is again being ignored by its critics., Buell shooting in Flint., You write: \"Fact: The little boy was the class thug, already suspended from school for stabbing another kid with a pencil, and had fought with Kayla the day before\"., This characterization of a six-year-old as a pencil-stabbing thug is exactly the kind of hysteria that Moore's film warns against., It is the typical right-wing reaction which looks for simple answers that do not contradict the Republican mindset., The kid was a little bastard, and the parents were involved in drugs -- case closed., But why do people deal with drugs?, Because it's so much fun to do so?, It is by now well documented that the CIA tolerated crack sales in US cities to fund the operation of South American \"contras\" It is equally well known that the so-called \"war on drugs\" begun under the Nixon administration is a failure which has cost hundreds of billions and made America the world leader in prison population (both in relative and absolute numbers)., ]   \n",
       "1  [Animated history of the US., Of course the cartoon is highly oversimplified, and most critics consider it one of the weakest parts of the film., But it makes a valid claim which you ignore entirely: That the strategy to promote \"gun rights\" for white people and to outlaw gun possession by black people was a way to uphold racism without letting an openly terrorist organization like the KKK flourish., Did the 19th century NRA in the southern states promote gun rights for black people?, I highly doubt it., But if they didn't, one of their functions was to continue the racism of the KKK., This is the key message of this part of the animation, which is again being ignored by its critics., Buell shooting in Flint., You write: \"Fact: The little boy was the class thug, already suspended from school for stabbing another kid with a pencil, and had fought with Kayla the day before\"., This characterization of a six-year-old as a pencil-stabbing thug is exactly the kind of hysteria that Moore's film warns against., It is the typical right-wing reaction which looks for simple answers that do not contradict the Republican mindset., The kid was a little bastard, and the parents were involved in drugs -- case closed., But why do people deal with drugs?, Because it's so much fun to do so?, It is by now well documented that the CIA tolerated crack sales in US cities to fund the operation of South American \"contras\" It is equally well known that the so-called \"war on drugs\" begun under the Nixon administration is a failure which has cost hundreds of billions and made America the world leader in prison population (both in relative and absolute numbers)., ]   \n",
       "2  [Animated history of the US., Of course the cartoon is highly oversimplified, and most critics consider it one of the weakest parts of the film., But it makes a valid claim which you ignore entirely: That the strategy to promote \"gun rights\" for white people and to outlaw gun possession by black people was a way to uphold racism without letting an openly terrorist organization like the KKK flourish., Did the 19th century NRA in the southern states promote gun rights for black people?, I highly doubt it., But if they didn't, one of their functions was to continue the racism of the KKK., This is the key message of this part of the animation, which is again being ignored by its critics., Buell shooting in Flint., You write: \"Fact: The little boy was the class thug, already suspended from school for stabbing another kid with a pencil, and had fought with Kayla the day before\"., This characterization of a six-year-old as a pencil-stabbing thug is exactly the kind of hysteria that Moore's film warns against., It is the typical right-wing reaction which looks for simple answers that do not contradict the Republican mindset., The kid was a little bastard, and the parents were involved in drugs -- case closed., But why do people deal with drugs?, Because it's so much fun to do so?, It is by now well documented that the CIA tolerated crack sales in US cities to fund the operation of South American \"contras\" It is equally well known that the so-called \"war on drugs\" begun under the Nixon administration is a failure which has cost hundreds of billions and made America the world leader in prison population (both in relative and absolute numbers)., ]   \n",
       "3  [Animated history of the US., Of course the cartoon is highly oversimplified, and most critics consider it one of the weakest parts of the film., But it makes a valid claim which you ignore entirely: That the strategy to promote \"gun rights\" for white people and to outlaw gun possession by black people was a way to uphold racism without letting an openly terrorist organization like the KKK flourish., Did the 19th century NRA in the southern states promote gun rights for black people?, I highly doubt it., But if they didn't, one of their functions was to continue the racism of the KKK., This is the key message of this part of the animation, which is again being ignored by its critics., Buell shooting in Flint., You write: \"Fact: The little boy was the class thug, already suspended from school for stabbing another kid with a pencil, and had fought with Kayla the day before\"., This characterization of a six-year-old as a pencil-stabbing thug is exactly the kind of hysteria that Moore's film warns against., It is the typical right-wing reaction which looks for simple answers that do not contradict the Republican mindset., The kid was a little bastard, and the parents were involved in drugs -- case closed., But why do people deal with drugs?, Because it's so much fun to do so?, It is by now well documented that the CIA tolerated crack sales in US cities to fund the operation of South American \"contras\" It is equally well known that the so-called \"war on drugs\" begun under the Nixon administration is a failure which has cost hundreds of billions and made America the world leader in prison population (both in relative and absolute numbers)., ]   \n",
       "4  [Animated history of the US., Of course the cartoon is highly oversimplified, and most critics consider it one of the weakest parts of the film., But it makes a valid claim which you ignore entirely: That the strategy to promote \"gun rights\" for white people and to outlaw gun possession by black people was a way to uphold racism without letting an openly terrorist organization like the KKK flourish., Did the 19th century NRA in the southern states promote gun rights for black people?, I highly doubt it., But if they didn't, one of their functions was to continue the racism of the KKK., This is the key message of this part of the animation, which is again being ignored by its critics., Buell shooting in Flint., You write: \"Fact: The little boy was the class thug, already suspended from school for stabbing another kid with a pencil, and had fought with Kayla the day before\"., This characterization of a six-year-old as a pencil-stabbing thug is exactly the kind of hysteria that Moore's film warns against., It is the typical right-wing reaction which looks for simple answers that do not contradict the Republican mindset., The kid was a little bastard, and the parents were involved in drugs -- case closed., But why do people deal with drugs?, Because it's so much fun to do so?, It is by now well documented that the CIA tolerated crack sales in US cities to fund the operation of South American \"contras\" It is equally well known that the so-called \"war on drugs\" begun under the Nixon administration is a failure which has cost hundreds of billions and made America the world leader in prison population (both in relative and absolute numbers)., ]   \n",
       "\n",
       "  pid qid  \\\n",
       "0  0   0    \n",
       "1  0   0    \n",
       "2  0   0    \n",
       "3  0   1    \n",
       "4  0   1    \n",
       "\n",
       "                                                                           question  \\\n",
       "0  Does the author claim the animated films message is that the NRA upholds racism?   \n",
       "1  Does the author claim the animated films message is that the NRA upholds racism?   \n",
       "2  Does the author claim the animated films message is that the NRA upholds racism?   \n",
       "3  Which key message(s) do(es) this passage say the critics ignored?                  \n",
       "4  Which key message(s) do(es) this passage say the critics ignored?                  \n",
       "\n",
       "      sent_used  \n",
       "0  [1, 2, 3, 5]  \n",
       "1  [1, 2, 3, 5]  \n",
       "2  [1, 2, 3, 5]  \n",
       "3  [2, 6]        \n",
       "4  [2, 6]        "
      ]
     },
     "execution_count": 15,
     "metadata": {},
     "output_type": "execute_result"
    }
   ],
   "source": [
    "multirc_dfs_reduced['train'].head()"
   ]
  },
  {
   "cell_type": "markdown",
   "metadata": {},
   "source": [
    "## Train with augmented data\n",
    "\n",
    "Now, let's train a MultiRC model with the transformed data."
   ]
  },
  {
   "cell_type": "code",
   "execution_count": 16,
   "metadata": {},
   "outputs": [],
   "source": [
    "augmented_model = MultitaskModel(\n",
    "    name=f\"SuperGLUE\",\n",
    "    tasks=[task], \n",
    "    dataparallel=False,\n",
    "    device=0\n",
    ")"
   ]
  },
  {
   "cell_type": "code",
   "execution_count": 17,
   "metadata": {},
   "outputs": [],
   "source": [
    "# Construct training dataloader from augmented DF\n",
    "dataloaders = []\n",
    "\n",
    "for split in splits:\n",
    "    rows = multirc_dfs_reduced[split].to_dict(\"records\")\n",
    "    dataset = parse_from_rows(rows, tokenizer, max_sequence_length)\n",
    "    dataloaders.append(MultitaskDataLoader(\n",
    "        task_to_label_dict={task_name: \"labels\"},\n",
    "        dataset=dataset,\n",
    "        split=split,\n",
    "        batch_size=batch_size,\n",
    "        shuffle=True if split == 'train' else False,\n",
    "    ))"
   ]
  },
  {
   "cell_type": "code",
   "execution_count": 18,
   "metadata": {},
   "outputs": [],
   "source": [
    "# 1. Train your own model\n",
    "# trainer = Trainer(**trainer_config)\n",
    "# trainer.train_model(augmented_model, dataloaders)\n",
    "\n",
    "# 2. Use our pretrained model!\n",
    "multirc_slice_path = \"/dfs/scratch1/senwu/mmtl/snorkel-superglue/notebooks/my_best_multirc_tf_model.pth\"\n",
    "augmented_model.load(multirc_slice_path)"
   ]
  },
  {
   "cell_type": "code",
   "execution_count": 19,
   "metadata": {},
   "outputs": [
    {
     "name": "stdout",
     "output_type": "stream",
     "text": [
      "CPU times: user 14.2 s, sys: 3.48 s, total: 17.7 s\n",
      "Wall time: 17.6 s\n"
     ]
    },
    {
     "data": {
      "text/plain": [
       "{'MultiRC/SuperGLUE/valid/f1': 0.7098901098901099}"
      ]
     },
     "execution_count": 19,
     "metadata": {},
     "output_type": "execute_result"
    }
   ],
   "source": [
    "%%time\n",
    "augmented_model.score(dataloaders[1])"
   ]
  },
  {
   "cell_type": "code",
   "execution_count": null,
   "metadata": {},
   "outputs": [],
   "source": []
  }
 ],
 "metadata": {
  "jupytext": {
   "cell_metadata_filter": "-all",
   "main_language": "python",
   "notebook_metadata_filter": "-all"
  },
  "kernelspec": {
   "display_name": "Python 3",
   "language": "python",
   "name": "python3"
  },
  "language_info": {
   "codemirror_mode": {
    "name": "ipython",
    "version": 3
   },
   "file_extension": ".py",
   "mimetype": "text/x-python",
   "name": "python",
   "nbconvert_exporter": "python",
   "pygments_lexer": "ipython3",
   "version": "3.6.7"
  }
 },
 "nbformat": 4,
 "nbformat_minor": 2
}
