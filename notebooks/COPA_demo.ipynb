{
 "cells": [
  {
   "cell_type": "markdown",
   "metadata": {},
   "source": [
    "# COPA Demo"
   ]
  },
  {
   "cell_type": "code",
   "execution_count": 4,
   "metadata": {},
   "outputs": [],
   "source": [
    "if not \"cwd\" in globals():\n",
    "    cwd = Path(os.getcwd())\n",
    "sys.path.insert(0, str(cwd.parents[0]))"
   ]
  },
  {
   "cell_type": "code",
   "execution_count": 5,
   "metadata": {},
   "outputs": [],
   "source": [
    "TASK_NAME = \"COPA\"\n",
    "AUX_TASK_NAME = \"SWAG\"\n",
    "BERT_MODEL = \"bert-large-cased\"\n",
    "\n",
    "dataloader_config = {\n",
    "    \"batch_size\": 4,\n",
    "    \"data_dir\": os.environ[\"SUPERGLUEDATA\"],\n",
    "    \"splits\": [\"train\", \"valid\"],\n",
    "}\n",
    "\n",
    "trainer_config = {\n",
    "    \"lr\": 1e-5,\n",
    "    \"optimizer\": \"adam\",\n",
    "    \"n_epochs\": 10,\n",
    "    \"conter_unit\": \"epochs\",\n",
    "    \"evaluation_freq\": 0.25,\n",
    "    \"checkpointing\": 1,\n",
    "    \"logging\": 1,\n",
    "}"
   ]
  },
  {
   "cell_type": "markdown",
   "metadata": {},
   "source": [
    "### Train Primary Task from BERT"
   ]
  },
  {
   "cell_type": "code",
   "execution_count": 6,
   "metadata": {},
   "outputs": [],
   "source": [
    "from dataloaders import get_dataloaders\n",
    "\n",
    "# Loading primary task data\n",
    "copa_dataloaders = get_dataloaders(\n",
    "    task_name=TASK_NAME,\n",
    "    tokenizer_name=BERT_MODEL,\n",
    "    **dataloader_config\n",
    ")"
   ]
  },
  {
   "cell_type": "code",
   "execution_count": 7,
   "metadata": {},
   "outputs": [],
   "source": [
    "from superglue_tasks import task_funcs\n",
    "\n",
    "# Defining task\n",
    "copa_task = task_funcs[TASK_NAME](BERT_MODEL)"
   ]
  },
  {
   "cell_type": "code",
   "execution_count": 8,
   "metadata": {},
   "outputs": [],
   "source": [
    "from snorkel.mtl.model import MultitaskModel\n",
    "from snorkel.mtl.trainer import Trainer\n",
    "\n",
    "copa_model = MultitaskModel(tasks=[copa_task])\n",
    "trainer = Trainer(**trainer_config)"
   ]
  },
  {
   "cell_type": "code",
   "execution_count": 10,
   "metadata": {},
   "outputs": [],
   "source": [
    "# Training on COPA an dsaving model -- takes a long time on CPU!\n",
    "# trainer.train_model(copa_model, copa_dataloaders)\n",
    "# copa_model.save('best_model_COPA_SuperGLUE_valid_accuracy.pth')\n",
    "\n",
    "# Load trained model run ahead of time to save time\n",
    "copa_model.load('best_model_COPA_SuperGLUE_valid_accuracy.pth')"
   ]
  },
  {
   "cell_type": "code",
   "execution_count": 11,
   "metadata": {},
   "outputs": [
    {
     "name": "stdout",
     "output_type": "stream",
     "text": [
      "COPA Accuracy Using Random Initialization: 0.72\n"
     ]
    }
   ],
   "source": [
    "# Evaluating model\n",
    "copa_train_loader, copa_dev_loader = copa_dataloaders\n",
    "copa_score = copa_model.score(copa_dev_loader)\n",
    "print(f\"COPA (from BERT) Accuracy: {copa_score['COPA/SuperGLUE/valid/accuracy']}\")"
   ]
  },
  {
   "cell_type": "markdown",
   "metadata": {},
   "source": [
    "### Train Auxiliary Task (SWAG) from BERT"
   ]
  },
  {
   "cell_type": "code",
   "execution_count": 12,
   "metadata": {},
   "outputs": [],
   "source": [
    "# Getting dataloaders, task, and model for SWAG\n",
    "\n",
    "swag_dataloaders = get_dataloaders(\n",
    "    task_name=AUX_TASK_NAME,\n",
    "    tokenizer_name=BERT_MODEL,\n",
    "    **dataloader_config\n",
    ")\n",
    "\n",
    "swag_task = task_funcs[AUX_TASK_NAME](BERT_MODEL)\n",
    "swag_model = MultitaskModel(tasks=[swag_task])"
   ]
  },
  {
   "cell_type": "code",
   "execution_count": 13,
   "metadata": {},
   "outputs": [],
   "source": [
    "# Training on SWAG and saving model -- takes a long time on CPU!\n",
    "\n",
    "# trainer.train_model(swag_model, swag_dataloaders)\n",
    "# swag_model.save('best_model_SWAG_SuperGLUE.pth')\n",
    "\n",
    "# Load trained model run ahead of time to save time\n",
    "swag_model = swag_model.load('best_model_SWAG_SuperGLUE.pth')"
   ]
  },
  {
   "cell_type": "markdown",
   "metadata": {},
   "source": [
    "### Train Primary Task from BERT + SWAG"
   ]
  },
  {
   "cell_type": "code",
   "execution_count": 14,
   "metadata": {},
   "outputs": [],
   "source": [
    "from copy import deepcopy\n",
    "\n",
    "# Initialize COPA model with weights from trained SWAG model\n",
    "copa_swag_model = deepcopy(copa_model)\n",
    "copa_swag_model.load('best_model_SWAG_SuperGLUE.pth')"
   ]
  },
  {
   "cell_type": "code",
   "execution_count": null,
   "metadata": {},
   "outputs": [],
   "source": [
    "from snorkel.mtl.trainer import Trainer\n",
    "\n",
    "# Training on COPA and saving model -- takes a long time on CPU!\n",
    "# trainer.train_model(copa_swag_model, copa_dataloaders)\n",
    "# copa_swag_model.save('best_model_COPA_SWAG_AUX_SuperGLUE_valid_accuracy.pth')\n",
    "\n",
    "# Load trained model run ahead of time to save time\n",
    "copa_swag_model.load('best_model_COPA_SWAG_AUX_SuperGLUE_valid_accuracy.pth')"
   ]
  },
  {
   "cell_type": "code",
   "execution_count": null,
   "metadata": {},
   "outputs": [],
   "source": [
    "copa_swag_score = copa_swag_model.score(copa_dev_loader)"
   ]
  },
  {
   "cell_type": "markdown",
   "metadata": {},
   "source": [
    "### Compare performance with/without Aux. Task"
   ]
  },
  {
   "cell_type": "code",
   "execution_count": null,
   "metadata": {},
   "outputs": [],
   "source": [
    "print(f\"COPA (from BERT) Accuracy: {copa_score['COPA/SuperGLUE/valid/accuracy']}\")\n",
    "print(f\"COPA (from BERT + SWAG) Accuracy: {copa_score_swag['COPA/SuperGLUE/valid/accuracy']}\")"
   ]
  }
 ],
 "metadata": {
  "kernelspec": {
   "display_name": "snorkel_env",
   "language": "python",
   "name": "snorkel_env"
  },
  "language_info": {
   "codemirror_mode": {
    "name": "ipython",
    "version": 3
   },
   "file_extension": ".py",
   "mimetype": "text/x-python",
   "name": "python",
   "nbconvert_exporter": "python",
   "pygments_lexer": "ipython3",
   "version": "3.7.3"
  }
 },
 "nbformat": 4,
 "nbformat_minor": 2
}
